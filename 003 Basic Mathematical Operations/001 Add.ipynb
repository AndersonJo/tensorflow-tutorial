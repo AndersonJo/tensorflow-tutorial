{
 "cells": [
  {
   "cell_type": "code",
   "execution_count": 1,
   "metadata": {
    "collapsed": true
   },
   "outputs": [],
   "source": [
    "import numpy as np\n",
    "import tensorflow as tf"
   ]
  },
  {
   "cell_type": "code",
   "execution_count": 16,
   "metadata": {
    "collapsed": true
   },
   "outputs": [],
   "source": [
    "X = tf.Variable([[1,2,3], [4,5,6], [7,8,9]])\n",
    "Y = tf.Variable(5)\n",
    "T = tf.Variable([0, 0, 1])\n",
    "\n",
    "s = tf.add(X, Y, name='sum')\n"
   ]
  },
  {
   "cell_type": "code",
   "execution_count": 21,
   "metadata": {
    "collapsed": false
   },
   "outputs": [
    {
     "name": "stdout",
     "output_type": "stream",
     "text": [
      "X + Y\n",
      "[[ 6  7  8]\n",
      " [ 9 10 11]\n",
      " [12 13 14]]\n",
      "\n",
      "X + T\n",
      "[[ 1  2  4]\n",
      " [ 4  5  7]\n",
      " [ 7  8 10]]\n"
     ]
    }
   ],
   "source": [
    "init_var_op = tf.initialize_all_variables()\n",
    "with tf.Session() as sess:\n",
    "    sess.run(init_var_op)\n",
    "    \n",
    "    print 'X + Y' \n",
    "    print sess.run( tf.add(X, Y, name='sum') )\n",
    "    \n",
    "    print \n",
    "    print 'X + T'\n",
    "    print sess.run(tf.add(X, T))"
   ]
  }
 ],
 "metadata": {
  "kernelspec": {
   "display_name": "Python 3",
   "language": "python",
   "name": "python3"
  },
  "language_info": {
   "codemirror_mode": {
    "name": "ipython",
    "version": 3
   },
   "file_extension": ".py",
   "mimetype": "text/x-python",
   "name": "python",
   "nbconvert_exporter": "python",
   "pygments_lexer": "ipython3",
   "version": "3.6.0"
  }
 },
 "nbformat": 4,
 "nbformat_minor": 0
}
