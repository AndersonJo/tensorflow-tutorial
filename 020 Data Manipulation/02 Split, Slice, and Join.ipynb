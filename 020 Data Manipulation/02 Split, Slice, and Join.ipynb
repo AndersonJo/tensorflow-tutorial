{
 "cells": [
  {
   "cell_type": "code",
   "execution_count": 80,
   "metadata": {
    "collapsed": true
   },
   "outputs": [],
   "source": [
    "import tensorflow as tf\n",
    "import numpy as np\n",
    "\n",
    "from pprint import pprint as pp"
   ]
  },
  {
   "cell_type": "markdown",
   "metadata": {},
   "source": [
    "## Create a Interactive Session"
   ]
  },
  {
   "cell_type": "code",
   "execution_count": 7,
   "metadata": {
    "collapsed": true
   },
   "outputs": [],
   "source": [
    "gpu_options = tf.GPUOptions(per_process_gpu_memory_fraction=0.01, allow_growth=True)\n",
    "sess = tf.InteractiveSession(config=tf.ConfigProto(gpu_options=gpu_options))"
   ]
  },
  {
   "cell_type": "markdown",
   "metadata": {},
   "source": [
    "## tf.slice(input_, begin, size, name=None)\n",
    "\n",
    "begin vector 가 예를 들어서 [0, 0, 1] 이고, size vector가 [1, 2, 3] 이라면 다음과 같은 slice을 하게 됩니다. \n",
    "\n",
    "> data[0:0+1, 0:0+2, 1:1+3]"
   ]
  },
  {
   "cell_type": "code",
   "execution_count": 59,
   "metadata": {
    "collapsed": false
   },
   "outputs": [
    {
     "name": "stdout",
     "output_type": "stream",
     "text": [
      "S1\n",
      "[[[3 3 3]]]\n",
      "[[[3 3 3]]]\n",
      "\n",
      "S2\n",
      "[[[3 3 3]\n",
      "  [4 4 4]]]\n",
      "[[[3 3 3]\n",
      "  [4 4 4]]]\n",
      "\n",
      "S3\n",
      "[[[3 3 3]]\n",
      "\n",
      " [[5 5 5]]]\n",
      "-------------\n",
      "[[[3 3 3]]\n",
      "\n",
      " [[5 5 5]]]\n"
     ]
    }
   ],
   "source": [
    "data = np.array([[[1, 1, 1], [2, 2, 2]],\n",
    "                 [[3, 3, 3], [4, 4, 4]],\n",
    "                 [[5, 5, 5], [6, 6, 6]]])\n",
    "\n",
    "\n",
    "s1 = tf.slice(data, [1, 0, 0], [1, 1, 3])\n",
    "s2 = tf.slice(data, [1, 0, 0], [1, 2, 3])\n",
    "s3 = tf.slice(data, [1, 0, 0], [2, 1, 3])\n",
    "\n",
    "print('S1')\n",
    "print(s1.eval())\n",
    "print(data[1:1+1, 0:0+1, 0:0+3])\n",
    "\n",
    "print('\\nS2')\n",
    "print(s2.eval())\n",
    "print(data[1:1+1, 0:0+2, 0:0+3])\n",
    "\n",
    "print('\\nS3')\n",
    "print(s3.eval())\n",
    "print('-------------')\n",
    "print(data[1:1+2, 0:0+1, 0:0+3])"
   ]
  },
  {
   "cell_type": "markdown",
   "metadata": {},
   "source": [
    "## tf.split(value, num_or_size_splits, axis=0, num=None, name='split')"
   ]
  },
  {
   "cell_type": "code",
   "execution_count": 205,
   "metadata": {
    "collapsed": false
   },
   "outputs": [
    {
     "name": "stdout",
     "output_type": "stream",
     "text": [
      "Data\n",
      "[[  0   1   2   3   4   5   6   7   8   9  10  11  12  13  14  15  16  17\n",
      "   18  19  20  21  22  23  24  25  26  27  28  29]\n",
      " [ 30  31  32  33  34  35  36  37  38  39  40  41  42  43  44  45  46  47\n",
      "   48  49  50  51  52  53  54  55  56  57  58  59]\n",
      " [ 60  61  62  63  64  65  66  67  68  69  70  71  72  73  74  75  76  77\n",
      "   78  79  80  81  82  83  84  85  86  87  88  89]\n",
      " [ 90  91  92  93  94  95  96  97  98  99 100 101 102 103 104 105 106 107\n",
      "  108 109 110 111 112 113 114 115 116 117 118 119]\n",
      " [120 121 122 123 124 125 126 127 128 129 130 131 132 133 134 135 136 137\n",
      "  138 139 140 141 142 143 144 145 146 147 148 149]]\n",
      "\n",
      "Splitted 01\n",
      "[5 4]\n",
      "[[  0   1   2   3]\n",
      " [ 30  31  32  33]\n",
      " [ 60  61  62  63]\n",
      " [ 90  91  92  93]\n",
      " [120 121 122 123]]\n",
      "\n",
      "Splitted 02\n",
      "[ 5 15]\n",
      "[[  4   5   6   7   8   9  10  11  12  13  14  15  16  17  18]\n",
      " [ 34  35  36  37  38  39  40  41  42  43  44  45  46  47  48]\n",
      " [ 64  65  66  67  68  69  70  71  72  73  74  75  76  77  78]\n",
      " [ 94  95  96  97  98  99 100 101 102 103 104 105 106 107 108]\n",
      " [124 125 126 127 128 129 130 131 132 133 134 135 136 137 138]]\n",
      "\n",
      "Splitted 03\n",
      "[ 5 11]\n",
      "[[ 19  20  21  22  23  24  25  26  27  28  29]\n",
      " [ 49  50  51  52  53  54  55  56  57  58  59]\n",
      " [ 79  80  81  82  83  84  85  86  87  88  89]\n",
      " [109 110 111 112 113 114 115 116 117 118 119]\n",
      " [139 140 141 142 143 144 145 146 147 148 149]]\n"
     ]
    }
   ],
   "source": [
    "data = np.arange(5*30).reshape((5, 30))\n",
    "print('Data')\n",
    "print(data)\n",
    "\n",
    "splitted1 = tf.split(data, [4, 15, 11], axis=1)\n",
    "\n",
    "print('\\nSplitted 01')\n",
    "print(tf.shape(splitted1[0]).eval()) # 4\n",
    "print(splitted1[0].eval())\n",
    "\n",
    "print('\\nSplitted 02')\n",
    "print(tf.shape(splitted1[1]).eval()) # 15\n",
    "print(splitted1[1].eval())\n",
    "\n",
    "print('\\nSplitted 03')\n",
    "print(tf.shape(splitted1[2]).eval()) # 11\n",
    "print(splitted1[2].eval())"
   ]
  },
  {
   "cell_type": "code",
   "execution_count": 203,
   "metadata": {
    "collapsed": false
   },
   "outputs": [
    {
     "name": "stdout",
     "output_type": "stream",
     "text": [
      "\n",
      "\n",
      "Splitted 01\n",
      "Shape: [ 1 30]\n",
      "[[ 0  1  2  3  4  5  6  7  8  9 10 11 12 13 14 15 16 17 18 19 20 21 22 23\n",
      "  24 25 26 27 28 29]]\n",
      "numpy\n",
      "[[ 0  1  2  3  4  5  6  7  8  9 10 11 12 13 14 15 16 17 18 19 20 21 22 23\n",
      "  24 25 26 27 28 29]]\n",
      "\n",
      "\n",
      "Splitted 02\n",
      "Shape: [ 2 30]\n",
      "[[30 31 32 33 34 35 36 37 38 39 40 41 42 43 44 45 46 47 48 49 50 51 52 53\n",
      "  54 55 56 57 58 59]\n",
      " [60 61 62 63 64 65 66 67 68 69 70 71 72 73 74 75 76 77 78 79 80 81 82 83\n",
      "  84 85 86 87 88 89]]\n",
      "numpy\n",
      "[[30 31 32 33 34 35 36 37 38 39 40 41 42 43 44 45 46 47 48 49 50 51 52 53\n",
      "  54 55 56 57 58 59]\n",
      " [60 61 62 63 64 65 66 67 68 69 70 71 72 73 74 75 76 77 78 79 80 81 82 83\n",
      "  84 85 86 87 88 89]]\n",
      "\n",
      "\n",
      "Splitted 03\n",
      "Shape: [ 2 30]\n",
      "[[ 90  91  92  93  94  95  96  97  98  99 100 101 102 103 104 105 106 107\n",
      "  108 109 110 111 112 113 114 115 116 117 118 119]\n",
      " [120 121 122 123 124 125 126 127 128 129 130 131 132 133 134 135 136 137\n",
      "  138 139 140 141 142 143 144 145 146 147 148 149]]\n",
      "numpy\n",
      "[[ 90  91  92  93  94  95  96  97  98  99 100 101 102 103 104 105 106 107\n",
      "  108 109 110 111 112 113 114 115 116 117 118 119]\n",
      " [120 121 122 123 124 125 126 127 128 129 130 131 132 133 134 135 136 137\n",
      "  138 139 140 141 142 143 144 145 146 147 148 149]]\n"
     ]
    }
   ],
   "source": [
    "splitted = tf.split(data, [1, 2, 2], axis=0)\n",
    "\n",
    "print('\\n\\nSplitted 01')\n",
    "print('Shape:', tf.shape(splitted[0]).eval())\n",
    "print(splitted[0].eval())\n",
    "print('numpy')\n",
    "print(data[0:1])\n",
    "\n",
    "print('\\n\\nSplitted 02')\n",
    "print('Shape:', tf.shape(splitted[1]).eval())\n",
    "print(splitted[1].eval())\n",
    "print('numpy')\n",
    "print(data[1:3])\n",
    "\n",
    "print('\\n\\nSplitted 03')\n",
    "print('Shape:', tf.shape(splitted[2]).eval())\n",
    "print(splitted[2].eval())\n",
    "print('numpy')\n",
    "print(data[3:5])"
   ]
  },
  {
   "cell_type": "code",
   "execution_count": null,
   "metadata": {
    "collapsed": true
   },
   "outputs": [],
   "source": []
  }
 ],
 "metadata": {
  "kernelspec": {
   "display_name": "Python 3",
   "language": "python",
   "name": "python3"
  },
  "language_info": {
   "codemirror_mode": {
    "name": "ipython",
    "version": 3
   },
   "file_extension": ".py",
   "mimetype": "text/x-python",
   "name": "python",
   "nbconvert_exporter": "python",
   "pygments_lexer": "ipython3",
   "version": "3.6.0"
  }
 },
 "nbformat": 4,
 "nbformat_minor": 2
}
