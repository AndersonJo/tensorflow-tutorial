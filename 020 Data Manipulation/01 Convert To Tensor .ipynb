{
 "cells": [
  {
   "cell_type": "code",
   "execution_count": 2,
   "metadata": {
    "collapsed": true
   },
   "outputs": [],
   "source": [
    "import tensorflow as tf \n",
    "import numpy as np"
   ]
  },
  {
   "cell_type": "markdown",
   "metadata": {},
   "source": [
    "# Convert To Tensor \n",
    "\n",
    "tf.convert_to_tensor(value, dtype=None, name=None, preferred_dtype=None)"
   ]
  },
  {
   "cell_type": "markdown",
   "metadata": {},
   "source": [
    "### Example"
   ]
  },
  {
   "cell_type": "code",
   "execution_count": 6,
   "metadata": {
    "collapsed": false
   },
   "outputs": [],
   "source": [
    "def foo(arg):\n",
    "    arg = tf.convert_to_tensor(arg, dtype='float32')\n",
    "    return tf.matmul(arg, arg) + arg\n",
    "\n",
    "v1 = foo(tf.constant([[1.0, 2.0], [3.0, 4.0]]))\n",
    "v2 = foo([[1.0, 2.0], [3.0, 4.0]])\n",
    "v3 = foo(np.array([[1.0, 2.0], [3.0, 4.0]]))"
   ]
  },
  {
   "cell_type": "code",
   "execution_count": 12,
   "metadata": {
    "collapsed": false
   },
   "outputs": [
    {
     "name": "stdout",
     "output_type": "stream",
     "text": [
      "[[  8.  12.]\n",
      " [ 18.  26.]]\n",
      "\n",
      "[[  8.  12.]\n",
      " [ 18.  26.]]\n",
      "\n",
      "[[  8.  12.]\n",
      " [ 18.  26.]]\n",
      "\n"
     ]
    }
   ],
   "source": [
    "gpu_options = tf.GPUOptions(per_process_gpu_memory_fraction=0.4, allow_growth=True)\n",
    "with tf.Session(config=tf.ConfigProto(gpu_options=gpu_options)) as sess:\n",
    "    r1, r2, r3 = sess.run([v1, v2, v3])\n",
    "    \n",
    "    print(r1, end='\\n\\n')\n",
    "    print(r2, end='\\n\\n')\n",
    "    print(r3, end='\\n\\n')"
   ]
  }
 ],
 "metadata": {
  "kernelspec": {
   "display_name": "Python 3",
   "language": "python",
   "name": "python3"
  },
  "language_info": {
   "codemirror_mode": {
    "name": "ipython",
    "version": 3
   },
   "file_extension": ".py",
   "mimetype": "text/x-python",
   "name": "python",
   "nbconvert_exporter": "python",
   "pygments_lexer": "ipython3",
   "version": "3.6.0"
  }
 },
 "nbformat": 4,
 "nbformat_minor": 2
}
