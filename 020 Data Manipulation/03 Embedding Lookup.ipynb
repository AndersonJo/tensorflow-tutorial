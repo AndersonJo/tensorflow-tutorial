{
 "cells": [
  {
   "cell_type": "code",
   "execution_count": 1,
   "metadata": {
    "collapsed": true
   },
   "outputs": [],
   "source": [
    "import tensorflow as tf"
   ]
  },
  {
   "cell_type": "markdown",
   "metadata": {},
   "source": [
    "### Create a Session"
   ]
  },
  {
   "cell_type": "code",
   "execution_count": 6,
   "metadata": {
    "collapsed": true
   },
   "outputs": [],
   "source": [
    "init_op = tf.global_variables_initializer()\n",
    "\n",
    "gpu_options = tf.GPUOptions(per_process_gpu_memory_fraction=0.001, allow_growth=True)\n",
    "sess = tf.InteractiveSession(config=tf.ConfigProto(gpu_options=gpu_options))\n",
    "sess.run(init_op)"
   ]
  },
  {
   "cell_type": "markdown",
   "metadata": {},
   "source": [
    "### embedding_lookup\n",
    "\n",
    "params tensor에서 ids를 index해서 찾아낸 elements를 리턴합니다. <br>\n",
    "tf.gather와 유사합니다. \n",
    "\n",
    "또한 emgedding_lookup은 partition_strategy에 따라서 lookup 을 합니다. \n",
    "\n",
    "$$ \\begin{bmatrix} 100 & 200 \\\\ 300 & 400 \\end{bmatrix} $$\n",
    "\n",
    "에서 Index를 붙이면 다음과 같습니다. \n",
    "\n",
    "$$ \\begin{bmatrix} 0 & 2 \\\\ 1 & 3 \\end{bmatrix} $$"
   ]
  },
  {
   "cell_type": "code",
   "execution_count": 20,
   "metadata": {
    "collapsed": false
   },
   "outputs": [
    {
     "name": "stdout",
     "output_type": "stream",
     "text": [
      "embedding_lookup(params, ids):\t [10 10 30]\n",
      "tf.gather(params, ids):       \t [10 10 30]\n"
     ]
    }
   ],
   "source": [
    "params = tf.constant([10, 20, 30, 40], dtype=tf.int32, name='params')\n",
    "ids = tf.constant([0, 0, 2])\n",
    "\n",
    "print('embedding_lookup(params, ids):\\t', tf.nn.embedding_lookup(params, ids).eval())\n",
    "print('tf.gather(params, ids):       \\t', tf.gather(params, ids).eval())"
   ]
  },
  {
   "cell_type": "code",
   "execution_count": 48,
   "metadata": {
    "collapsed": false
   },
   "outputs": [
    {
     "name": "stdout",
     "output_type": "stream",
     "text": [
      "[100 300 200 400 100]\n"
     ]
    }
   ],
   "source": [
    "params1 = tf.constant([100,200])\n",
    "params2 = tf.constant([300,400])\n",
    "ids = tf.constant([0, 1, 2, 3, 0])\n",
    "print(tf.nn.embedding_lookup([params1, params2], ids).eval())"
   ]
  }
 ],
 "metadata": {
  "kernelspec": {
   "display_name": "Python 3",
   "language": "python",
   "name": "python3"
  },
  "language_info": {
   "codemirror_mode": {
    "name": "ipython",
    "version": 3
   },
   "file_extension": ".py",
   "mimetype": "text/x-python",
   "name": "python",
   "nbconvert_exporter": "python",
   "pygments_lexer": "ipython3",
   "version": "3.6.0"
  }
 },
 "nbformat": 4,
 "nbformat_minor": 2
}
