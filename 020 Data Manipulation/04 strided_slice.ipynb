{
 "cells": [
  {
   "cell_type": "markdown",
   "metadata": {},
   "source": [
    "# strided_slice\n",
    "\n",
    "```\n",
    "tf.strided_slice(input_, begin, end, strides=None, begin_mask=0, end_mask=0, ellipsis_mask=0, new_axis_mask=0, shrink_axis_mask=0, var=None, name=None)\n",
    "```\n",
    "\n",
    "begin과 end사이의 데이터를 extract합니다."
   ]
  },
  {
   "cell_type": "code",
   "execution_count": 2,
   "metadata": {
    "collapsed": true
   },
   "outputs": [],
   "source": [
    "import tensorflow as tf\n",
    "import numpy as np"
   ]
  },
  {
   "cell_type": "markdown",
   "metadata": {},
   "source": [
    "### Create InteractiveSession"
   ]
  },
  {
   "cell_type": "code",
   "execution_count": 5,
   "metadata": {
    "collapsed": true
   },
   "outputs": [],
   "source": [
    "gpu_options = tf.GPUOptions(per_process_gpu_memory_fraction=0.001, allow_growth=True)\n",
    "sess = tf.InteractiveSession(config=tf.ConfigProto(gpu_options=gpu_options))\n",
    "init_op = tf.global_variables_initializer()\n",
    "sess.run(init_op)"
   ]
  },
  {
   "cell_type": "markdown",
   "metadata": {},
   "source": [
    "### Data"
   ]
  },
  {
   "cell_type": "code",
   "execution_count": 25,
   "metadata": {
    "collapsed": false
   },
   "outputs": [
    {
     "data": {
      "text/plain": [
       "array([[[ 1.1,  1.2,  1.3],\n",
       "        [ 2.1,  2.2,  2.3]],\n",
       "\n",
       "       [[ 3.1,  3.2,  3.3],\n",
       "        [ 4.1,  4.2,  4.3]],\n",
       "\n",
       "       [[ 5.1,  5.2,  5.3],\n",
       "        [ 6.1,  6.2,  6.3]]])"
      ]
     },
     "execution_count": 25,
     "metadata": {},
     "output_type": "execute_result"
    }
   ],
   "source": [
    "data = np.array([[[1.1, 1.2, 1.3], [2.1, 2.2, 2.3]], \n",
    "                 [[3.1, 3.2, 3.3], [4.1, 4.2, 4.3]], \n",
    "                 [[5.1, 5.2, 5.3], [6.1, 6.2, 6.3]]])\n",
    "inputs = tf.convert_to_tensor(data)\n",
    "sess.run(inputs)"
   ]
  },
  {
   "cell_type": "markdown",
   "metadata": {},
   "source": [
    "### Examples (using begin and end)"
   ]
  },
  {
   "cell_type": "code",
   "execution_count": 26,
   "metadata": {
    "collapsed": false
   },
   "outputs": [
    {
     "data": {
      "text/plain": [
       "array([[[ 1.1,  1.2,  1.3],\n",
       "        [ 2.1,  2.2,  2.3]],\n",
       "\n",
       "       [[ 3.1,  3.2,  3.3],\n",
       "        [ 4.1,  4.2,  4.3]],\n",
       "\n",
       "       [[ 5.1,  5.2,  5.3],\n",
       "        [ 6.1,  6.2,  6.3]]])"
      ]
     },
     "execution_count": 26,
     "metadata": {},
     "output_type": "execute_result"
    }
   ],
   "source": [
    "sliced1 = tf.strided_slice(inputs, begin=[0], end=[3])\n",
    "sess.run(sliced1)"
   ]
  },
  {
   "cell_type": "code",
   "execution_count": 38,
   "metadata": {
    "collapsed": false
   },
   "outputs": [
    {
     "data": {
      "text/plain": [
       "array([[[ 3.1,  3.2,  3.3]],\n",
       "\n",
       "       [[ 5.1,  5.2,  5.3]]])"
      ]
     },
     "execution_count": 38,
     "metadata": {},
     "output_type": "execute_result"
    }
   ],
   "source": [
    "sliced1 = tf.strided_slice(inputs, begin=[1, 0], end=[3, 1])\n",
    "sess.run(sliced1)"
   ]
  },
  {
   "cell_type": "code",
   "execution_count": 45,
   "metadata": {
    "collapsed": false
   },
   "outputs": [
    {
     "data": {
      "text/plain": [
       "array([[[ 3.1,  3.2,  3.3],\n",
       "        [ 4.1,  4.2,  4.3]],\n",
       "\n",
       "       [[ 5.1,  5.2,  5.3],\n",
       "        [ 6.1,  6.2,  6.3]]])"
      ]
     },
     "execution_count": 45,
     "metadata": {},
     "output_type": "execute_result"
    }
   ],
   "source": [
    "sliced1 = tf.strided_slice(inputs, begin=[1, 0], end=[3, 2])\n",
    "sess.run(sliced1)"
   ]
  },
  {
   "cell_type": "code",
   "execution_count": 46,
   "metadata": {
    "collapsed": false
   },
   "outputs": [
    {
     "data": {
      "text/plain": [
       "array([[[ 3.1]],\n",
       "\n",
       "       [[ 5.1]]])"
      ]
     },
     "execution_count": 46,
     "metadata": {},
     "output_type": "execute_result"
    }
   ],
   "source": [
    "sliced1 = tf.strided_slice(inputs, begin=[1, 0, 0], end=[3, 1, 1])\n",
    "sess.run(sliced1)"
   ]
  },
  {
   "cell_type": "code",
   "execution_count": 61,
   "metadata": {
    "collapsed": false
   },
   "outputs": [
    {
     "data": {
      "text/plain": [
       "array([[[ 1.1,  1.2]],\n",
       "\n",
       "       [[ 3.1,  3.2]],\n",
       "\n",
       "       [[ 5.1,  5.2]]])"
      ]
     },
     "execution_count": 61,
     "metadata": {},
     "output_type": "execute_result"
    }
   ],
   "source": [
    "sliced1 = tf.strided_slice(inputs, begin=[0, 0, 0], end=[3, 1, -1])\n",
    "sess.run(sliced1)"
   ]
  },
  {
   "cell_type": "code",
   "execution_count": 64,
   "metadata": {
    "collapsed": false
   },
   "outputs": [
    {
     "data": {
      "text/plain": [
       "array([[[ 1.1]],\n",
       "\n",
       "       [[ 3.1]]])"
      ]
     },
     "execution_count": 64,
     "metadata": {},
     "output_type": "execute_result"
    }
   ],
   "source": [
    "sliced1 = tf.strided_slice(inputs, begin=[0, 0, 0], end=[-1, 1, 1])\n",
    "sess.run(sliced1)"
   ]
  },
  {
   "cell_type": "markdown",
   "metadata": {},
   "source": [
    "### Examples (using strides)\n",
    "\n",
    "strides 값이 모두 1값을 갖은 vector라면.. 안쓴거와 동일합니다."
   ]
  },
  {
   "cell_type": "code",
   "execution_count": 94,
   "metadata": {
    "collapsed": false
   },
   "outputs": [
    {
     "name": "stdout",
     "output_type": "stream",
     "text": [
      "no strides\n",
      "[[[ 1.1  1.2  1.3]]\n",
      "\n",
      " [[ 3.1  3.2  3.3]]]\n",
      "\n",
      "stride used\n",
      "[[[ 1.1  1.2  1.3]]\n",
      "\n",
      " [[ 3.1  3.2  3.3]]]\n"
     ]
    }
   ],
   "source": [
    "sliced1 = tf.strided_slice(inputs, begin=[0, 0, 0], end=[2, 1, 3])\n",
    "print('no strides')\n",
    "print(sess.run(sliced1))\n",
    "\n",
    "sliced1 = tf.strided_slice(inputs, begin=[0, 0, 0], end=[2, 1, 3], strides=[1, 1, 1])\n",
    "print('\\nstride used')\n",
    "print(sess.run(sliced1))"
   ]
  },
  {
   "cell_type": "code",
   "execution_count": 108,
   "metadata": {
    "collapsed": false
   },
   "outputs": [
    {
     "name": "stdout",
     "output_type": "stream",
     "text": [
      "[[[ 1.1  1.3]]\n",
      "\n",
      " [[ 5.1  5.3]]]\n"
     ]
    }
   ],
   "source": [
    "sliced1 = tf.strided_slice(inputs, begin=[0, 0, 0], end=[3, 1, 3], strides=[2, 1, 2])\n",
    "print(sess.run(sliced1))"
   ]
  }
 ],
 "metadata": {
  "kernelspec": {
   "display_name": "Python 3",
   "language": "python",
   "name": "python3"
  },
  "language_info": {
   "codemirror_mode": {
    "name": "ipython",
    "version": 3
   },
   "file_extension": ".py",
   "mimetype": "text/x-python",
   "name": "python",
   "nbconvert_exporter": "python",
   "pygments_lexer": "ipython3",
   "version": "3.6.0"
  }
 },
 "nbformat": 4,
 "nbformat_minor": 2
}
