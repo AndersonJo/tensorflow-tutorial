{
 "cells": [
  {
   "cell_type": "markdown",
   "metadata": {},
   "source": [
    "# Start Interactive Session"
   ]
  },
  {
   "cell_type": "code",
   "execution_count": 1,
   "metadata": {
    "collapsed": false
   },
   "outputs": [
    {
     "name": "stdout",
     "output_type": "stream",
     "text": [
      "Populating the interactive namespace from numpy and matplotlib\n"
     ]
    }
   ],
   "source": [
    "%pylab inline\n",
    "import tensorflow as tf\n",
    "import pandas as pd\n",
    "import numpy as np\n",
    "\n",
    "from IPython.display import clear_output"
   ]
  },
  {
   "cell_type": "markdown",
   "metadata": {},
   "source": [
    "## Create Data"
   ]
  },
  {
   "cell_type": "code",
   "execution_count": 2,
   "metadata": {
    "collapsed": false
   },
   "outputs": [
    {
     "data": {
      "image/png": "[encoded data removed]",
      "text/plain": [
       "<matplotlib.figure.Figure at 0x7fc617996358>"
      ]
     },
     "metadata": {},
     "output_type": "display_data"
    }
   ],
   "source": [
    "c1 = np.random.normal(size=10)\n",
    "c2 = np.random.exponential(size=10)\n",
    "c3 = np.random.chisquare(5, size=10)\n",
    "c4 = np.array([None]*10)\n",
    "\n",
    "data = pd.DataFrame({'normal': c1, 'exp':c2, 'chi':c3, 'none': c4}, columns=['normal', 'exp', 'chi', 'none'])\n",
    "data.to_csv('random.data', header=False)\n",
    "\n",
    "\n",
    "data.hist(bins=30)\n",
    "clear_output()"
   ]
  },
  {
   "cell_type": "code",
   "execution_count": 3,
   "metadata": {
    "collapsed": false
   },
   "outputs": [],
   "source": [
    "init_op = tf.global_variables_initializer()\n",
    "gpu_options = tf.GPUOptions(per_process_gpu_memory_fraction=0.01, allow_growth=True)\n",
    "sess = tf.InteractiveSession(config=tf.ConfigProto(gpu_options=gpu_options))\n",
    "sess.run(init_op)"
   ]
  },
  {
   "cell_type": "markdown",
   "metadata": {},
   "source": []
  },
  {
   "cell_type": "markdown",
   "metadata": {},
   "source": [
    "## Reading CSV Files\n",
    "\n",
    "[tf.train.string_input_producer](https://www.tensorflow.org/api_docs/python/tf/train/string_input_producer)를 사용하면 file names을 갖고 있는 FIFO queue를 만들수 있습니다. 이는 말그대로 file names을 갖고 있는 것이지 파일 안의 데이터를 갖고 있지는 않습니다. 이때 옵션에 따라서 shuffling 또는 maximum number of epochs를 설정할수도 있습니다.\n",
    "\n",
    "흥미로운 점은 forloop을 돌면서 가령 Data의 갯수 (rows)는 10개라고 했을때 그 이상 forloop을 돌면은 계속 반복해서 파일의 처음부터 다시 읽듯이 read를 합니다. string_input_producer에서 shuffle을 True값을 주는 것은 파일을 불러올때의 shuffle이지 데이터를 읽을때의 shuffle은 아닙니다.\n",
    "\n",
    "문제가 될 수 있는 부분은 header에 column names가 들어가게 되는데.. 이경우 skip_header 같은 옵션이 없기 때문에 파일을 읽을시 반드시 header가 삭제된 파일을 읽어야 합니다."
   ]
  },
  {
   "cell_type": "code",
   "execution_count": 4,
   "metadata": {
    "collapsed": false
   },
   "outputs": [],
   "source": [
    "_files = ['random.data']\n",
    "data_queue = tf.train.string_input_producer(_files, num_epochs=None, shuffle=True, name='file_input_producer')\n",
    "\n",
    "reader = tf.TextLineReader()\n",
    "key, value = reader.read(data_queue)\n",
    "\n",
    "record_defaults = [[0.], [0.], [0.], [0.], [0.]]\n",
    "col1, col2, col3, col4, col5 = tf.decode_csv(value, record_defaults=record_defaults)\n",
    "features = tf.stack([col1, col2, col5])\n",
    "\n",
    "coord = tf.train.Coordinator()\n",
    "threads = tf.train.start_queue_runners(coord=coord, daemon=True, start=True)"
   ]
  },
  {
   "cell_type": "code",
   "execution_count": 6,
   "metadata": {
    "collapsed": false,
    "scrolled": true
   },
   "outputs": [
    {
     "name": "stdout",
     "output_type": "stream",
     "text": [
      "[0 ]  0.45   0.49   3.83\t | stack: [ 0.          0.45395735  0.        ]\n",
      "[1 ]  0.34   0.36   3.64\t | stack: [ 1.          0.33982021  0.        ]\n",
      "[2 ] -1.44   0.19   5.26\t | stack: [ 2.         -1.44052148  0.        ]\n",
      "[3 ]  0.09   0.10   6.36\t | stack: [ 3.          0.08712945  0.        ]\n",
      "[4 ] -0.77   2.27  14.12\t | stack: [ 4.         -0.77030915  0.        ]\n",
      "[5 ]  1.61   3.20   3.86\t | stack: [ 5.          1.61097288  0.        ]\n",
      "[6 ] -0.75   0.28   2.14\t | stack: [ 6.         -0.75481528  0.        ]\n",
      "[7 ]  0.75   1.08   0.73\t | stack: [ 7.          0.74873269  0.        ]\n",
      "[8 ]  0.51   2.75   3.79\t | stack: [ 8.          0.51361752  0.        ]\n",
      "[9 ] -1.89   0.17  12.56\t | stack: [ 9.         -1.89026117  0.        ]\n",
      "[0 ]  0.45   0.49   3.83\t | stack: [ 0.          0.45395735  0.        ]\n",
      "[1 ]  0.34   0.36   3.64\t | stack: [ 1.          0.33982021  0.        ]\n",
      "[2 ] -1.44   0.19   5.26\t | stack: [ 2.         -1.44052148  0.        ]\n",
      "[3 ]  0.09   0.10   6.36\t | stack: [ 3.          0.08712945  0.        ]\n",
      "[4 ] -0.77   2.27  14.12\t | stack: [ 4.         -0.77030915  0.        ]\n",
      "[5 ]  1.61   3.20   3.86\t | stack: [ 5.          1.61097288  0.        ]\n",
      "[6 ] -0.75   0.28   2.14\t | stack: [ 6.         -0.75481528  0.        ]\n",
      "[7 ]  0.75   1.08   0.73\t | stack: [ 7.          0.74873269  0.        ]\n",
      "[8 ]  0.51   2.75   3.79\t | stack: [ 8.          0.51361752  0.        ]\n",
      "[9 ] -1.89   0.17  12.56\t | stack: [ 9.         -1.89026117  0.        ]\n",
      "[0 ]  0.45   0.49   3.83\t | stack: [ 0.          0.45395735  0.        ]\n",
      "[1 ]  0.34   0.36   3.64\t | stack: [ 1.          0.33982021  0.        ]\n",
      "[2 ] -1.44   0.19   5.26\t | stack: [ 2.         -1.44052148  0.        ]\n",
      "[3 ]  0.09   0.10   6.36\t | stack: [ 3.          0.08712945  0.        ]\n",
      "[4 ] -0.77   2.27  14.12\t | stack: [ 4.         -0.77030915  0.        ]\n",
      "[5 ]  1.61   3.20   3.86\t | stack: [ 5.          1.61097288  0.        ]\n",
      "[6 ] -0.75   0.28   2.14\t | stack: [ 6.         -0.75481528  0.        ]\n",
      "[7 ]  0.75   1.08   0.73\t | stack: [ 7.          0.74873269  0.        ]\n",
      "[8 ]  0.51   2.75   3.79\t | stack: [ 8.          0.51361752  0.        ]\n",
      "[9 ] -1.89   0.17  12.56\t | stack: [ 9.         -1.89026117  0.        ]\n",
      "[0 ]  0.45   0.49   3.83\t | stack: [ 0.          0.45395735  0.        ]\n",
      "[1 ]  0.34   0.36   3.64\t | stack: [ 1.          0.33982021  0.        ]\n",
      "[2 ] -1.44   0.19   5.26\t | stack: [ 2.         -1.44052148  0.        ]\n",
      "[3 ]  0.09   0.10   6.36\t | stack: [ 3.          0.08712945  0.        ]\n",
      "[4 ] -0.77   2.27  14.12\t | stack: [ 4.         -0.77030915  0.        ]\n",
      "[5 ]  1.61   3.20   3.86\t | stack: [ 5.          1.61097288  0.        ]\n",
      "[6 ] -0.75   0.28   2.14\t | stack: [ 6.         -0.75481528  0.        ]\n",
      "[7 ]  0.75   1.08   0.73\t | stack: [ 7.          0.74873269  0.        ]\n",
      "[8 ]  0.51   2.75   3.79\t | stack: [ 8.          0.51361752  0.        ]\n",
      "[9 ] -1.89   0.17  12.56\t | stack: [ 9.         -1.89026117  0.        ]\n",
      "[0 ]  0.45   0.49   3.83\t | stack: [ 0.          0.45395735  0.        ]\n",
      "[1 ]  0.34   0.36   3.64\t | stack: [ 1.          0.33982021  0.        ]\n",
      "[2 ] -1.44   0.19   5.26\t | stack: [ 2.         -1.44052148  0.        ]\n",
      "[3 ]  0.09   0.10   6.36\t | stack: [ 3.          0.08712945  0.        ]\n",
      "[4 ] -0.77   2.27  14.12\t | stack: [ 4.         -0.77030915  0.        ]\n",
      "[5 ]  1.61   3.20   3.86\t | stack: [ 5.          1.61097288  0.        ]\n",
      "[6 ] -0.75   0.28   2.14\t | stack: [ 6.         -0.75481528  0.        ]\n",
      "[7 ]  0.75   1.08   0.73\t | stack: [ 7.          0.74873269  0.        ]\n",
      "[8 ]  0.51   2.75   3.79\t | stack: [ 8.          0.51361752  0.        ]\n",
      "[9 ] -1.89   0.17  12.56\t | stack: [ 9.         -1.89026117  0.        ]\n",
      "[0 ]  0.45   0.49   3.83\t | stack: [ 0.          0.45395735  0.        ]\n",
      "[1 ]  0.34   0.36   3.64\t | stack: [ 1.          0.33982021  0.        ]\n",
      "[2 ] -1.44   0.19   5.26\t | stack: [ 2.         -1.44052148  0.        ]\n",
      "[3 ]  0.09   0.10   6.36\t | stack: [ 3.          0.08712945  0.        ]\n",
      "[4 ] -0.77   2.27  14.12\t | stack: [ 4.         -0.77030915  0.        ]\n",
      "[5 ]  1.61   3.20   3.86\t | stack: [ 5.          1.61097288  0.        ]\n",
      "[6 ] -0.75   0.28   2.14\t | stack: [ 6.         -0.75481528  0.        ]\n",
      "[7 ]  0.75   1.08   0.73\t | stack: [ 7.          0.74873269  0.        ]\n",
      "[8 ]  0.51   2.75   3.79\t | stack: [ 8.          0.51361752  0.        ]\n",
      "[9 ] -1.89   0.17  12.56\t | stack: [ 9.         -1.89026117  0.        ]\n",
      "[0 ]  0.45   0.49   3.83\t | stack: [ 0.          0.45395735  0.        ]\n",
      "[1 ]  0.34   0.36   3.64\t | stack: [ 1.          0.33982021  0.        ]\n",
      "[2 ] -1.44   0.19   5.26\t | stack: [ 2.         -1.44052148  0.        ]\n",
      "[3 ]  0.09   0.10   6.36\t | stack: [ 3.          0.08712945  0.        ]\n",
      "[4 ] -0.77   2.27  14.12\t | stack: [ 4.         -0.77030915  0.        ]\n",
      "[5 ]  1.61   3.20   3.86\t | stack: [ 5.          1.61097288  0.        ]\n",
      "[6 ] -0.75   0.28   2.14\t | stack: [ 6.         -0.75481528  0.        ]\n",
      "[7 ]  0.75   1.08   0.73\t | stack: [ 7.          0.74873269  0.        ]\n",
      "[8 ]  0.51   2.75   3.79\t | stack: [ 8.          0.51361752  0.        ]\n",
      "[9 ] -1.89   0.17  12.56\t | stack: [ 9.         -1.89026117  0.        ]\n",
      "[0 ]  0.45   0.49   3.83\t | stack: [ 0.          0.45395735  0.        ]\n",
      "[1 ]  0.34   0.36   3.64\t | stack: [ 1.          0.33982021  0.        ]\n",
      "[2 ] -1.44   0.19   5.26\t | stack: [ 2.         -1.44052148  0.        ]\n",
      "[3 ]  0.09   0.10   6.36\t | stack: [ 3.          0.08712945  0.        ]\n",
      "[4 ] -0.77   2.27  14.12\t | stack: [ 4.         -0.77030915  0.        ]\n",
      "[5 ]  1.61   3.20   3.86\t | stack: [ 5.          1.61097288  0.        ]\n",
      "[6 ] -0.75   0.28   2.14\t | stack: [ 6.         -0.75481528  0.        ]\n",
      "[7 ]  0.75   1.08   0.73\t | stack: [ 7.          0.74873269  0.        ]\n",
      "[8 ]  0.51   2.75   3.79\t | stack: [ 8.          0.51361752  0.        ]\n",
      "[9 ] -1.89   0.17  12.56\t | stack: [ 9.         -1.89026117  0.        ]\n",
      "[0 ]  0.45   0.49   3.83\t | stack: [ 0.          0.45395735  0.        ]\n",
      "[1 ]  0.34   0.36   3.64\t | stack: [ 1.          0.33982021  0.        ]\n",
      "[2 ] -1.44   0.19   5.26\t | stack: [ 2.         -1.44052148  0.        ]\n",
      "[3 ]  0.09   0.10   6.36\t | stack: [ 3.          0.08712945  0.        ]\n",
      "[4 ] -0.77   2.27  14.12\t | stack: [ 4.         -0.77030915  0.        ]\n",
      "[5 ]  1.61   3.20   3.86\t | stack: [ 5.          1.61097288  0.        ]\n",
      "[6 ] -0.75   0.28   2.14\t | stack: [ 6.         -0.75481528  0.        ]\n",
      "[7 ]  0.75   1.08   0.73\t | stack: [ 7.          0.74873269  0.        ]\n",
      "[8 ]  0.51   2.75   3.79\t | stack: [ 8.          0.51361752  0.        ]\n",
      "[9 ] -1.89   0.17  12.56\t | stack: [ 9.         -1.89026117  0.        ]\n",
      "[0 ]  0.45   0.49   3.83\t | stack: [ 0.          0.45395735  0.        ]\n",
      "[1 ]  0.34   0.36   3.64\t | stack: [ 1.          0.33982021  0.        ]\n",
      "[2 ] -1.44   0.19   5.26\t | stack: [ 2.         -1.44052148  0.        ]\n",
      "[3 ]  0.09   0.10   6.36\t | stack: [ 3.          0.08712945  0.        ]\n",
      "[4 ] -0.77   2.27  14.12\t | stack: [ 4.         -0.77030915  0.        ]\n",
      "[5 ]  1.61   3.20   3.86\t | stack: [ 5.          1.61097288  0.        ]\n",
      "[6 ] -0.75   0.28   2.14\t | stack: [ 6.         -0.75481528  0.        ]\n",
      "[7 ]  0.75   1.08   0.73\t | stack: [ 7.          0.74873269  0.        ]\n",
      "[8 ]  0.51   2.75   3.79\t | stack: [ 8.          0.51361752  0.        ]\n",
      "[9 ] -1.89   0.17  12.56\t | stack: [ 9.         -1.89026117  0.        ]\n"
     ]
    }
   ],
   "source": [
    "for i in range(100):\n",
    "    example, idx, normal, exp, chi = sess.run([features, col1, col2, col3, col4])\n",
    "    print('[%-2d] %5.2f  %5.2f  %5.2f\\t | stack: %s'  % (idx, normal, exp, chi, example))\n",
    "\n",
    "coord.request_stop()\n",
    "coord.join(threads)\n",
    "# data_queue.close()\n",
    "# tf.Session.reset(sess, containers=['dataqueue'])"
   ]
  }
 ],
 "metadata": {
  "kernelspec": {
   "display_name": "Python 3",
   "language": "python",
   "name": "python3"
  },
  "language_info": {
   "codemirror_mode": {
    "name": "ipython",
    "version": 3
   },
   "file_extension": ".py",
   "mimetype": "text/x-python",
   "name": "python",
   "nbconvert_exporter": "python",
   "pygments_lexer": "ipython3",
   "version": "3.6.0"
  }
 },
 "nbformat": 4,
 "nbformat_minor": 2
}
