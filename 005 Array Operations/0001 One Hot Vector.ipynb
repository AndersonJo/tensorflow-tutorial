{
 "cells": [
  {
   "cell_type": "code",
   "execution_count": 7,
   "metadata": {
    "collapsed": true
   },
   "outputs": [],
   "source": [
    "import tensorflow as tf\n",
    "import tflearn\n",
    "import numpy as np"
   ]
  },
  {
   "cell_type": "markdown",
   "metadata": {},
   "source": [
    "### One Hot Vector\n",
    "\n",
    "data 변수값에는 다음과 같이 들어가 있습니다.\n",
    "```python\n",
    "data = [0, 1, 2, 3, 4.7, 4.1]\n",
    "```\n",
    "예제에서 one_hot() 함수는 data에 해당하는 index에 7을 넣고, 나머지는 0을 넣습니다. <br>\n",
    "중요하게 볼 부분은 4.7 이나 4.1 둘다 동일하게 4로 취급됩니다."
   ]
  },
  {
   "cell_type": "code",
   "execution_count": 34,
   "metadata": {
    "collapsed": false
   },
   "outputs": [],
   "source": [
    "x = tf.placeholder('int64', [None], name='x')\n",
    "x_one_hot = tf.one_hot(x, 10, 7., 0., name='x_one_hot')\n",
    "tf.one_hot?"
   ]
  },
  {
   "cell_type": "code",
   "execution_count": 44,
   "metadata": {
    "collapsed": false
   },
   "outputs": [
    {
     "name": "stdout",
     "output_type": "stream",
     "text": [
      "[[ 7.  0.  0.  0.  0.  0.  0.  0.  0.  0.]\n",
      " [ 0.  7.  0.  0.  0.  0.  0.  0.  0.  0.]\n",
      " [ 0.  0.  7.  0.  0.  0.  0.  0.  0.  0.]\n",
      " [ 0.  0.  0.  7.  0.  0.  0.  0.  0.  0.]\n",
      " [ 0.  0.  0.  0.  7.  0.  0.  0.  0.  0.]\n",
      " [ 0.  0.  0.  0.  7.  0.  0.  0.  0.  0.]]\n"
     ]
    }
   ],
   "source": [
    "with tf.Session() as sess:\n",
    "    sess.run(tf.initialize_all_variables())\n",
    "    \n",
    "    data = [0, 1, 2, 3, 4.7, 4.1]\n",
    "    print sess.run(x_one_hot, feed_dict={x: data})"
   ]
  }
 ],
 "metadata": {
  "kernelspec": {
   "display_name": "Python 2",
   "language": "python",
   "name": "python2"
  },
  "language_info": {
   "codemirror_mode": {
    "name": "ipython",
    "version": 2
   },
   "file_extension": ".py",
   "mimetype": "text/x-python",
   "name": "python",
   "nbconvert_exporter": "python",
   "pygments_lexer": "ipython2",
   "version": "2.7.12"
  }
 },
 "nbformat": 4,
 "nbformat_minor": 1
}
