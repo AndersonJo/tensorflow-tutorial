{
 "cells": [
  {
   "cell_type": "code",
   "execution_count": 15,
   "metadata": {
    "collapsed": true
   },
   "outputs": [],
   "source": [
    "import tensorflow as tf\n",
    "import numpy as np"
   ]
  },
  {
   "cell_type": "code",
   "execution_count": 5,
   "metadata": {
    "collapsed": false
   },
   "outputs": [],
   "source": [
    "gpu_options = tf.GPUOptions(per_process_gpu_memory_fraction=0.01, allow_growth=True)\n",
    "sess = tf.InteractiveSession(config=tf.ConfigProto(gpu_options=gpu_options))"
   ]
  },
  {
   "cell_type": "code",
   "execution_count": 86,
   "metadata": {
    "collapsed": false
   },
   "outputs": [
    {
     "name": "stdout",
     "output_type": "stream",
     "text": [
      "[ 0.          0.5         0.62245935  0.7310586   1.        ]\n"
     ]
    }
   ],
   "source": [
    "x = np.array([-5000, 0, 0.5, 1, 5000], dtype='float16')\n",
    "\n",
    "inputs = tf.placeholder('float32', shape=(None))\n",
    "sigmoid = tf.nn.sigmoid(inputs)\n",
    "\n",
    "print(sess.run(sigmoid, feed_dict={inputs: x}))"
   ]
  },
  {
   "cell_type": "code",
   "execution_count": 87,
   "metadata": {
    "collapsed": false
   },
   "outputs": [
    {
     "name": "stdout",
     "output_type": "stream",
     "text": [
      "[ -5.00000000e+03   0.00000000e+00   5.00000000e-01   1.00000000e+00\n",
      "   5.00000000e+03]\n"
     ]
    },
    {
     "name": "stderr",
     "output_type": "stream",
     "text": [
      "/usr/local/lib/python3.6/site-packages/ipykernel/__main__.py:4: RuntimeWarning: overflow encountered in power\n"
     ]
    },
    {
     "data": {
      "text/plain": [
       "array([ 0.        ,  0.5       ,  0.62255859,  0.73095703,  1.        ], dtype=float16)"
      ]
     },
     "execution_count": 87,
     "metadata": {},
     "output_type": "execute_result"
    }
   ],
   "source": [
    "def sigmoid(x):\n",
    "#     x = np.clip(x, 0.001, 0.99)\n",
    "    print(x)\n",
    "    return 1./(1+np.e**(-x))\n",
    "\n",
    "\n",
    "sigmoid(x)"
   ]
  },
  {
   "cell_type": "code",
   "execution_count": 88,
   "metadata": {
    "collapsed": true
   },
   "outputs": [],
   "source": [
    "sess.close()"
   ]
  }
 ],
 "metadata": {
  "kernelspec": {
   "display_name": "Python 3",
   "language": "python",
   "name": "python3"
  },
  "language_info": {
   "codemirror_mode": {
    "name": "ipython",
    "version": 3
   },
   "file_extension": ".py",
   "mimetype": "text/x-python",
   "name": "python",
   "nbconvert_exporter": "python",
   "pygments_lexer": "ipython3",
   "version": "3.6.0"
  }
 },
 "nbformat": 4,
 "nbformat_minor": 2
}
