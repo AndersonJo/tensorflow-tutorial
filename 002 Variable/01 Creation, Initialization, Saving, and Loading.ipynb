{
 "cells": [
  {
   "cell_type": "markdown",
   "metadata": {},
   "source": [
    "# Variables \n",
    "\n",
    "Variables은 Model을 training시에 parameters(weights)들을 update하거나 갖고 있을수 있습니다.  <br>\n",
    "In-memory buffers이며 명시적으로 초기화시켜줘야 하며 저장하거나 불러올수 있습니다. "
   ]
  },
  {
   "cell_type": "code",
   "execution_count": 1,
   "metadata": {
    "collapsed": true
   },
   "outputs": [],
   "source": [
    "import tensorflow as tf"
   ]
  },
  {
   "cell_type": "markdown",
   "metadata": {},
   "source": [
    "### Creation\n",
    "\n",
    "Variables을 생성할때, Tensor를 초기값으로 전달해야 합니다.  "
   ]
  },
  {
   "cell_type": "code",
   "execution_count": 2,
   "metadata": {
    "collapsed": true
   },
   "outputs": [],
   "source": [
    "weights = tf.Variable(tf.random_normal([784, 200], stddev=0.35), name='weights')\n",
    "biases = tf.Variable(tf.zeros([200]), name='biases')"
   ]
  },
  {
   "cell_type": "markdown",
   "metadata": {},
   "source": [
    "### Device Placement\n",
    "\n",
    "Variables는 특정 디바이스를 지정할수 있습니다.<br>\n",
    "하지만 v.assign() operators처럼 mutate하는 것들은 반드시 같은 device안에 존재해야 합니다. "
   ]
  },
  {
   "cell_type": "code",
   "execution_count": 3,
   "metadata": {
    "collapsed": true
   },
   "outputs": [],
   "source": [
    "with tf.device('/cpu:0'):\n",
    "    cpu_v = tf.Variable(tf.random_normal([784, 200], stddev=0.5), name='cpu_vector')\n",
    "    \n",
    "with tf.device('/gpu:0'):\n",
    "    gpu_v = tf.Variable(tf.random_normal([784, 200], stddev=0.5), name='gpu_vector')"
   ]
  },
  {
   "cell_type": "markdown",
   "metadata": {},
   "source": [
    "### Initialization\n",
    "\n",
    "Variable initializers 는 반드시 명시적으로 실행되야 합니다. "
   ]
  },
  {
   "cell_type": "code",
   "execution_count": 7,
   "metadata": {
    "collapsed": false
   },
   "outputs": [],
   "source": [
    "init_op = tf.global_variables_initializer()\n",
    "\n",
    "gpu_options = tf.GPUOptions(per_process_gpu_memory_fraction=0.001, allow_growth=True)\n",
    "sess = tf.Session(config=tf.ConfigProto(gpu_options=gpu_options))\n",
    "sess.run(init_op)"
   ]
  },
  {
   "cell_type": "markdown",
   "metadata": {},
   "source": [
    "### Saving Variables"
   ]
  },
  {
   "cell_type": "code",
   "execution_count": 9,
   "metadata": {
    "collapsed": false
   },
   "outputs": [
    {
     "data": {
      "text/plain": [
       "'/tmp/variable_test.ckpt'"
      ]
     },
     "execution_count": 9,
     "metadata": {},
     "output_type": "execute_result"
    }
   ],
   "source": [
    "saver =tf.train.Saver()\n",
    "saver.save(sess, '/tmp/variable_test.ckpt')"
   ]
  },
  {
   "cell_type": "markdown",
   "metadata": {},
   "source": [
    "### Restoring Variables\n",
    "\n",
    "Restoring 할때는 initialization을 해줄 필요가 없습니다. "
   ]
  },
  {
   "cell_type": "code",
   "execution_count": 11,
   "metadata": {
    "collapsed": true
   },
   "outputs": [],
   "source": [
    "saver.restore(sess, '/tmp/variable_test.ckpt')"
   ]
  },
  {
   "cell_type": "markdown",
   "metadata": {},
   "source": [
    "### Variables to Numpy Array\n",
    "\n",
    "그냥 Run 실행시키면 됨"
   ]
  },
  {
   "cell_type": "code",
   "execution_count": 13,
   "metadata": {
    "collapsed": false
   },
   "outputs": [
    {
     "data": {
      "text/plain": [
       "array([[ 0.79427677, -0.70706618, -0.43262488, ...,  0.01068686,\n",
       "        -0.085705  , -0.31455702],\n",
       "       [-0.04460101, -0.02016782, -0.50548464, ..., -0.42810267,\n",
       "         0.20497903, -0.28702372],\n",
       "       [-0.62877887, -0.51519108,  0.63525504, ...,  0.15575312,\n",
       "        -0.09617887,  0.15659091],\n",
       "       ..., \n",
       "       [ 0.31423798,  0.09636419, -0.45797321, ...,  0.42629337,\n",
       "        -0.85066891,  0.59309483],\n",
       "       [ 0.19040468,  0.2698268 , -0.12512121, ...,  0.13218126,\n",
       "        -0.6251471 , -0.35833758],\n",
       "       [ 0.92575026,  0.0520521 ,  0.03383748, ..., -0.25407696,\n",
       "        -0.29910761,  0.25049213]], dtype=float32)"
      ]
     },
     "execution_count": 13,
     "metadata": {},
     "output_type": "execute_result"
    }
   ],
   "source": [
    "sess.run(weights)"
   ]
  }
 ],
 "metadata": {
  "kernelspec": {
   "display_name": "Python 3",
   "language": "python",
   "name": "python3"
  },
  "language_info": {
   "codemirror_mode": {
    "name": "ipython",
    "version": 3.0
   },
   "file_extension": ".py",
   "mimetype": "text/x-python",
   "name": "python",
   "nbconvert_exporter": "python",
   "pygments_lexer": "ipython3",
   "version": "3.6.0"
  }
 },
 "nbformat": 4,
 "nbformat_minor": 0
}