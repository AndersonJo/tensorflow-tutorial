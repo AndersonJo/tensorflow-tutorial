{
 "cells": [
  {
   "cell_type": "markdown",
   "metadata": {},
   "source": [
    "# Sharing Variables\n",
    "\n",
    "하나의 Model에 관련된 Variables을 공유하기 위해서는 dictionary에 넣어서 다른곳에 쓰일경우 해당 dictionary자체를 공유합니다.<br>\n",
    "즉 Model에 있는 여러가지 variables각자 따로따로 관리하지 말고, dictionary에 다 넣을것. "
   ]
  },
  {
   "cell_type": "code",
   "execution_count": 1,
   "metadata": {
    "collapsed": true
   },
   "outputs": [],
   "source": [
    "import tensorflow as tf"
   ]
  },
  {
   "cell_type": "code",
   "execution_count": 5,
   "metadata": {
    "collapsed": false
   },
   "outputs": [],
   "source": [
    "input_images = tf.placeholder(\"float\", [None, 5, 32, 32])\n",
    "\n",
    "def create_model(input_images):\n",
    "    conv1_weights = tf.Variable(tf.random_normal([5, 5, 32, 32]), name=\"conv1_weights\")\n",
    "    conv1_biases = tf.Variable(tf.zeros([32]), name=\"conv1_biases\")\n",
    "    conv1 = tf.nn.conv2d(input_images, conv1_weights, strides=[1, 1, 1, 1], padding='SAME')\n",
    "    relu1 = tf.nn.relu(conv1 + conv1_biases)\n",
    "\n",
    "    conv2_weights = tf.Variable(tf.random_normal([5, 5, 32, 32]), name=\"conv2_weights\")\n",
    "    conv2_biases = tf.Variable(tf.zeros([32]), name=\"conv2_biases\")\n",
    "    conv2 = tf.nn.conv2d(relu1, conv2_weights, strides=[1, 1, 1, 1], padding='SAME')\n",
    "    \n",
    "    model = {\n",
    "        'conv1_weights': conv1_weights, \n",
    "        'conv1_biases': conv1_biases, \n",
    "        'conv1': conv1,\n",
    "        'relu1': relu1,\n",
    "        \n",
    "        'conv2_weights': conv2_weights,\n",
    "        'conv2_biases': conv2_biases,\n",
    "        'conv2': conv2\n",
    "    }\n",
    "    return model\n",
    "\n",
    "model = create_model(input_images)"
   ]
  }
 ],
 "metadata": {
  "kernelspec": {
   "display_name": "Python 3",
   "language": "python",
   "name": "python3"
  },
  "language_info": {
   "codemirror_mode": {
    "name": "ipython",
    "version": 3
   },
   "file_extension": ".py",
   "mimetype": "text/x-python",
   "name": "python",
   "nbconvert_exporter": "python",
   "pygments_lexer": "ipython3",
   "version": "3.6.0"
  }
 },
 "nbformat": 4,
 "nbformat_minor": 2
}
