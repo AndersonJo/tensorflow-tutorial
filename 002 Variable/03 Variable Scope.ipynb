{
 "cells": [
  {
   "cell_type": "markdown",
   "metadata": {
    "deletable": true,
    "editable": true
   },
   "source": [
    "# Variable Scope\n",
    "\n",
    "Variable Scope mechanism은 2개의 함수로 구성되어 있습니다. \n",
    "\n",
    "* tf.get_variable(<name>, <shape>, <initializer>): Creates or returns a variable with a given name.\n",
    "* tf.variable_scope(<scope_name>): Manages namespaces for names passed to tf.get_variable().\n",
    "\n",
    "tf.get_variable 의 경우, 없으면 만들기 때문에 direct로 특정 값을 보내지 않고, initializer를 passing 합니다. <br>\n",
    "initializers 는 예를들어 다음의 것들이 있습니다. \n",
    "\n",
    "* tf.constant_initializer(value) initializes everything to the provided value,\n",
    "* tf.random_uniform_initializer(a, b) initializes uniformly from [a, b],\n",
    "* tf.random_normal_initializer(mean, stddev) initializes from the normal distribution with the given mean and standard deviation."
   ]
  },
  {
   "cell_type": "markdown",
   "metadata": {
    "deletable": true,
    "editable": true
   },
   "source": [
    "### 예제 \n",
    "\n",
    "아래의 예제에서 convolution 2개를 만들고자 합니다. <br>\n",
    "이때 conv_relu에 사용된 이름들 'weights', 'biases', 등이 동일하기 때문에, conv_relu함수를 2번 사용할수가 없습니다.<br>\n",
    "이때 이름을 구분짓기 위해서 tf.variable_scope을 사용합니다. "
   ]
  },
  {
   "cell_type": "code",
   "execution_count": 1,
   "metadata": {
    "collapsed": true,
    "deletable": true,
    "editable": true
   },
   "outputs": [],
   "source": [
    "import tensorflow as tf"
   ]
  },
  {
   "cell_type": "code",
   "execution_count": 2,
   "metadata": {
    "collapsed": false,
    "deletable": true,
    "editable": true
   },
   "outputs": [],
   "source": [
    "input_images = tf.placeholder(\"float\", [None, 5, 32, 32])\n",
    "\n",
    "def conv_relu(input_layer, kernel_shape, bias_shape):\n",
    "    weights = tf.get_variable('weights', kernel_shape, initializer=tf.random_normal_initializer())\n",
    "    biases = tf.get_variable('biases', bias_shape, initializer=tf.constant_initializer(0.0))\n",
    "    conv = tf.nn.conv2d(input_layer, weights, strides=[1,1,1,1], padding='SAME')\n",
    "    return tf.nn.relu(conv + biases)\n",
    "\n",
    "def create_model(input_layer):\n",
    "    with tf.variable_scope('conv1'):\n",
    "        relu1 = conv_relu(input_layer, [5, 5, 32, 32], [32])\n",
    "    \n",
    "    with tf.variable_scope('conv2'):\n",
    "        relu2 = conv_relu(relu1, [5, 5, 32, 32], [32])\n",
    "    \n",
    "    return relu2\n",
    "\n",
    "model = create_model(input_images)"
   ]
  },
  {
   "cell_type": "code",
   "execution_count": 3,
   "metadata": {
    "collapsed": false
   },
   "outputs": [
    {
     "data": {
      "text/plain": [
       "'conv2/Relu'"
      ]
     },
     "execution_count": 3,
     "metadata": {},
     "output_type": "execute_result"
    }
   ],
   "source": [
    "model.op.name"
   ]
  },
  {
   "cell_type": "markdown",
   "metadata": {
    "deletable": true,
    "editable": true
   },
   "source": [
    "하지만 model = create_model(input_images) 를 2번 실행시키면 ValueError Exception이 일어나게 됩니다. <br>\n",
    "tf.get_variable()은 이미 존재하는 variables들을 감지하고 실수로 공유되지 않도록 막습니다.<br>\n",
    "때문에 저런 에러가 일어난 것이고, share가 필요하다면 reuse_variables()를 사용합니다. "
   ]
  },
  {
   "cell_type": "code",
   "execution_count": 3,
   "metadata": {
    "collapsed": false,
    "deletable": true,
    "editable": true
   },
   "outputs": [],
   "source": [
    "with tf.variable_scope('image_filters') as scope:\n",
    "    model2 = create_model(input_images)\n",
    "    scope.reuse_variables()\n",
    "    model3 = create_model(input_images)"
   ]
  },
  {
   "cell_type": "markdown",
   "metadata": {},
   "source": [
    "### Capturing Variable Scope\n",
    "\n",
    "scope자체를 공유할수도 있습니다. "
   ]
  },
  {
   "cell_type": "code",
   "execution_count": 4,
   "metadata": {
    "collapsed": false
   },
   "outputs": [],
   "source": [
    "with tf.variable_scope(\"foo\") as foo_scope:\n",
    "    v = tf.get_variable(\"v\", [1])\n",
    "\n",
    "with tf.variable_scope(foo_scope):\n",
    "    w = tf.get_variable(\"w\", [1])\n",
    "\n",
    "with tf.variable_scope(foo_scope, reuse=True):\n",
    "    v1 = tf.get_variable(\"v\", [1])\n",
    "    w1 = tf.get_variable(\"w\", [1])\n",
    "    \n",
    "assert v1 is v\n",
    "assert w1 is w"
   ]
  },
  {
   "cell_type": "code",
   "execution_count": 5,
   "metadata": {
    "collapsed": false
   },
   "outputs": [
    {
     "name": "stdout",
     "output_type": "stream",
     "text": [
      "v.name: foo/v\n",
      "w.name: foo/w\n"
     ]
    }
   ],
   "source": [
    "print('v.name:', v.op.name)\n",
    "print('w.name:', w.op.name)"
   ]
  }
 ],
 "metadata": {
  "kernelspec": {
   "display_name": "Python 3",
   "language": "python",
   "name": "python3"
  },
  "language_info": {
   "codemirror_mode": {
    "name": "ipython",
    "version": 3
   },
   "file_extension": ".py",
   "mimetype": "text/x-python",
   "name": "python",
   "nbconvert_exporter": "python",
   "pygments_lexer": "ipython3",
   "version": "3.6.0"
  }
 },
 "nbformat": 4,
 "nbformat_minor": 2
}
